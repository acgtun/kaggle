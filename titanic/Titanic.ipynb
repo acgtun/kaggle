{
 "cells": [
  {
   "cell_type": "markdown",
   "metadata": {},
   "source": [
    "Here is the solution for https://www.kaggle.com/c/titanic"
   ]
  },
  {
   "cell_type": "code",
   "execution_count": 151,
   "metadata": {
    "collapsed": false
   },
   "outputs": [],
   "source": [
    "import csv\n",
    "import datetime as dt\n",
    "import numpy as np\n",
    "from sklearn.linear_model import LogisticRegression\n",
    "from sklearn.model_selection import train_test_split\n",
    "from sklearn.pipeline import Pipeline\n",
    "\n",
    "\"\"\"\n",
    "'PassengerId', 'Survived', 'Pclass', 'Name', 'Sex', \n",
    "'Age', 'SibSp', 'Parch', 'Ticket','Fare', 'Cabin', 'Embarked'\n",
    "\"\"\"\n",
    "\n",
    "output_file_name_format = 'titanic-{:04}-{:02}-{:02}-{:02}-{:02}-{:02}.csv'\n",
    "\n",
    "target = 'Survived'\n",
    "features = ['Pclass', 'SexN', 'Age']\n",
    "\n",
    "# load data from csv file\n",
    "def read_data(file):\n",
    "    with open(file, 'r', errors='backslashreplace') as f:\n",
    "        reader = csv.DictReader(c.replace('\\0', '') for c in f)\n",
    "        for row in reader:\n",
    "            yield row\n",
    "\n",
    "\n",
    "def load_data(file):\n",
    "    data = [d for d in read_data(file)]\n",
    "    sex_numerical(data)\n",
    "    return data\n",
    "\n",
    "\n",
    "def print_data(data):\n",
    "    for d in data:\n",
    "        print(d)\n",
    "\n",
    "        \n",
    "def sex_numerical(data):\n",
    "    for d in data:\n",
    "        if d['Sex'] == 'male':\n",
    "            d['SexN'] = 1\n",
    "        else:\n",
    "            d['SexN'] = 0\n",
    "\n",
    "def numerical(val):\n",
    "    try:\n",
    "        return float(val)\n",
    "    except ValueError:\n",
    "        #return float('nan')\n",
    "        return 0\n",
    "\n",
    "    \n",
    "def split(Y, test_frac=0.33):\n",
    "    train_index, test_index = train_test_split(np.arange(len(Y)),\n",
    "                                               test_size=test_frac,\n",
    "                                               random_state=np.random.randint(10, 100),\n",
    "                                               stratify=Y)\n",
    "    return train_index, test_index\n",
    "\n",
    "\n",
    "def train(file):\n",
    "    data = load_data(file)\n",
    "    #print_data(data)\n",
    "\n",
    "    X = [tuple(numerical(d[f]) for f in features) for d in data]\n",
    "    Y = [d[target] for d in data]\n",
    "    X = np.array(X)\n",
    "    Y = np.array(Y)\n",
    "    \n",
    "    train_index, test_index = split(Y)\n",
    "    train_X = X[train_index]\n",
    "    train_Y = Y[train_index]\n",
    "    test_X = X[test_index]\n",
    "    test_Y = Y[test_index]\n",
    "    \n",
    "    clf = LogisticRegression();\n",
    "    clf.fit(train_X, train_Y);\n",
    "    score = clf.score(test_X, test_Y)\n",
    "    print('score: {}'.format(score))\n",
    "    return clf\n",
    "\n",
    "\n",
    "def predict(file, clf):\n",
    "    data = load_data(file)\n",
    "    X = [tuple(numerical(d[f]) for f in features) for d in data]\n",
    "    predict = clf.predict(X)\n",
    "    ####output to file####\n",
    "    t = dt.datetime.now()\n",
    "    file = output_file_name_format.format(t.year, t.month, t.day, t.hour, t.minute, t.second)\n",
    "    f = open(file, 'w')\n",
    "    f.write('PassengerId,Survived\\n')\n",
    "    for d, p in zip(data, predict):\n",
    "        f.write(d['PassengerId'] + ',' + p + '\\n')\n",
    "    f.close()"
   ]
  },
  {
   "cell_type": "code",
   "execution_count": 152,
   "metadata": {
    "collapsed": false,
    "scrolled": false
   },
   "outputs": [
    {
     "name": "stdout",
     "output_type": "stream",
     "text": [
      "score: 0.7830508474576271\n"
     ]
    }
   ],
   "source": [
    "# Main Function\n",
    "train_file = 'train.csv'\n",
    "test_file = 'test.csv'\n",
    "output_file = 'output.csv'\n",
    "clf = train(train_file)\n",
    "predict(test_file, clf)"
   ]
  }
 ],
 "metadata": {
  "kernelspec": {
   "display_name": "Python 3",
   "language": "python",
   "name": "python3"
  },
  "language_info": {
   "codemirror_mode": {
    "name": "ipython",
    "version": 3
   },
   "file_extension": ".py",
   "mimetype": "text/x-python",
   "name": "python",
   "nbconvert_exporter": "python",
   "pygments_lexer": "ipython3",
   "version": "3.6.0"
  }
 },
 "nbformat": 4,
 "nbformat_minor": 2
}
