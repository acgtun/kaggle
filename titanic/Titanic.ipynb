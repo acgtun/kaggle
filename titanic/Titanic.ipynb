{
 "cells": [
  {
   "cell_type": "markdown",
   "metadata": {},
   "source": [
    "Here is the solution for https://www.kaggle.com/c/titanic"
   ]
  },
  {
   "cell_type": "code",
   "execution_count": 16,
   "metadata": {
    "collapsed": true
   },
   "outputs": [],
   "source": [
    "import csv\n",
    "import numpy as np\n",
    "\n",
    "train_column_names = ['PassengerId', 'Survived', 'Pclass', 'Name', 'Sex', \\\n",
    "                'Age', 'SibSp', 'Parch', 'Ticket','Fare', 'Cabin', 'Embarked'] \n",
    "test_column_names = ['PassengerId', 'Pclass', 'Name', 'Sex', \\\n",
    "                'Age', 'SibSp', 'Parch', 'Ticket','Fare', 'Cabin', 'Embarked'] \n",
    "\n",
    "# load data from csv file\n",
    "def read_data(file, column_names):\n",
    "    with open(file, 'r', errors='backslashreplace') as f:\n",
    "        reader = csv.DictReader(c.replace('\\0', '') for c in f)\n",
    "        for row in reader:\n",
    "            yield row\n",
    "\n",
    "def load_data(file, column_names):\n",
    "    data = [d for d in read_data(file, column_names)]\n",
    "    return data\n",
    "\n",
    "def print_data(data):\n",
    "    for d in data:\n",
    "        print(d)\n",
    "\n",
    "def train(file, column_names):\n",
    "    data = load_data(file, column_names)\n",
    "    # print_data(data)\n",
    "    \n",
    "    \n",
    "\n",
    "def test(file, column_names):\n",
    "    pass\n",
    "\n",
    "def output(accuracy, file):\n",
    "    f = open(file, 'w')\n",
    "    f.write('PassengerId,Survived')\n",
    "    #for a in \n",
    "    f.close()"
   ]
  },
  {
   "cell_type": "code",
   "execution_count": 17,
   "metadata": {
    "collapsed": false
   },
   "outputs": [],
   "source": [
    "train_data_file = 'train.csv'\n",
    "test_data_file = 'test.csv'\n",
    "output_file = 'output.csv'\n",
    "pipeline = train(train_data_file, train_column_names)\n",
    "accuracy = test(test_data_file, train_column_names)\n",
    "output(accuracy, output_file)"
   ]
  },
  {
   "cell_type": "code",
   "execution_count": null,
   "metadata": {
    "collapsed": true
   },
   "outputs": [],
   "source": []
  }
 ],
 "metadata": {
  "kernelspec": {
   "display_name": "Python 3",
   "language": "python",
   "name": "python3"
  },
  "language_info": {
   "codemirror_mode": {
    "name": "ipython",
    "version": 3
   },
   "file_extension": ".py",
   "mimetype": "text/x-python",
   "name": "python",
   "nbconvert_exporter": "python",
   "pygments_lexer": "ipython3",
   "version": "3.6.0"
  }
 },
 "nbformat": 4,
 "nbformat_minor": 2
}
