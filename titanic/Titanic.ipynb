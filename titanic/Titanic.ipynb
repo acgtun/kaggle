{
 "cells": [
  {
   "cell_type": "markdown",
   "metadata": {},
   "source": [
    "Here is the solution for https://www.kaggle.com/c/titanic"
   ]
  },
  {
   "cell_type": "code",
   "execution_count": 86,
   "metadata": {
    "collapsed": false
   },
   "outputs": [],
   "source": [
    "import csv\n",
    "import numpy as np\n",
    "from sklearn.linear_model import LogisticRegression\n",
    "from sklearn.pipeline import Pipeline\n",
    "\n",
    "train_column_names = ['PassengerId', 'Survived', 'Pclass', 'Name', 'Sex', \\\n",
    "                'Age', 'SibSp', 'Parch', 'Ticket','Fare', 'Cabin', 'Embarked'] \n",
    "test_column_names = ['PassengerId', 'Pclass', 'Name', 'Sex', \\\n",
    "                'Age', 'SibSp', 'Parch', 'Ticket','Fare', 'Cabin', 'Embarked'] \n",
    "\n",
    "target = 'Survived'\n",
    "features = ['Pclass', 'SexN', 'Age']\n",
    "\n",
    "# load data from csv file\n",
    "def read_data(file):\n",
    "    with open(file, 'r', errors='backslashreplace') as f:\n",
    "        reader = csv.DictReader(c.replace('\\0', '') for c in f)\n",
    "        for row in reader:\n",
    "            yield row\n",
    "\n",
    "def load_data(file):\n",
    "    data = [d for d in read_data(file)]\n",
    "    sex_numerical(data)\n",
    "    return data\n",
    "\n",
    "def print_data(data):\n",
    "    for d in data:\n",
    "        print(d)\n",
    "\n",
    "def sex_numerical(data):\n",
    "    for d in data:\n",
    "        if d['Sex'] == 'male':\n",
    "            d['SexN'] = 1\n",
    "        else:\n",
    "            d['SexN'] = 0\n",
    "\n",
    "def numerical(val):\n",
    "    try:\n",
    "        return float(val)\n",
    "    except ValueError:\n",
    "        #return float('nan')\n",
    "        return 0\n",
    "\n",
    "def train(file):\n",
    "    data = load_data(file)\n",
    "    #print_data(data)\n",
    "\n",
    "    X = [tuple(numerical(d[f]) for f in features) for d in data]\n",
    "    #print_data(X)\n",
    "    Y = [d[target] for d in data]\n",
    "    #print_data(Y)\n",
    "    print(len(X))\n",
    "    print(len(Y))\n",
    "    clf = LogisticRegression();\n",
    "    clf.fit(X, Y);\n",
    "    return clf\n",
    "    \n",
    "\n",
    "def test(file, clf):\n",
    "    data = load_data(file)\n",
    "    X = [tuple(numerical(d[f]) for f in features) for d in data]\n",
    "    Y = [d[target] for d in data]\n",
    "    score = clf.score(X, Y)\n",
    "    return score\n",
    "\n",
    "def predict(file, clf):\n",
    "    data = load_data(file)\n",
    "    X = [tuple(numerical(d[f]) for f in features) for d in data]\n",
    "    score = clf.score(X)\n",
    "    return score"
   ]
  },
  {
   "cell_type": "code",
   "execution_count": 87,
   "metadata": {
    "collapsed": false
   },
   "outputs": [
    {
     "name": "stdout",
     "output_type": "stream",
     "text": [
      "891\n",
      "891\n",
      "score: 0.7732884399551067\n"
     ]
    }
   ],
   "source": [
    "train_file = 'train.csv'\n",
    "test_file = 'test.csv'\n",
    "output_file = 'output.csv'\n",
    "clf = train(train_file)\n",
    "score = test(train_file, clf)\n",
    "print('score: {}'.format(score))\n"
   ]
  },
  {
   "cell_type": "code",
   "execution_count": null,
   "metadata": {
    "collapsed": true
   },
   "outputs": [],
   "source": []
  }
 ],
 "metadata": {
  "kernelspec": {
   "display_name": "Python 3",
   "language": "python",
   "name": "python3"
  },
  "language_info": {
   "codemirror_mode": {
    "name": "ipython",
    "version": 3
   },
   "file_extension": ".py",
   "mimetype": "text/x-python",
   "name": "python",
   "nbconvert_exporter": "python",
   "pygments_lexer": "ipython3",
   "version": "3.6.0"
  }
 },
 "nbformat": 4,
 "nbformat_minor": 2
}
